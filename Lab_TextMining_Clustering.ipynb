{
 "cells": [
  {
   "cell_type": "markdown",
   "metadata": {},
   "source": [
    "# Naomi Nayman, Jack Herberger, Tyler Baxter"
   ]
  },
  {
   "cell_type": "markdown",
   "metadata": {
    "id": "YMHN8yHbG2Lg"
   },
   "source": [
    "###Assignment: Analyzing Book Genres and Themes through Clustering\n",
    "\n",
    "Full Credit: 20 points\n",
    "\n",
    "You can either work independently or in a group of three. Should you choose to work in a group, you MUST mention the group member names. You can only work in groups of three ie each group should have only 3 members.\n",
    "\n",
    "#### **Objective:**\n",
    "The goal of this assignment is to utilize clustering techniques on a dataset of book descriptions to achieve the following:\n",
    "\n",
    "1. **Discover Common Themes:**\n",
    "   - Identify prevalent themes within clusters of books.\n",
    "2. **Assign Genres to Authors:**\n",
    "   - Group books into clusters and determine the genre for each author based on their cluster membership.\n",
    "\n",
    "#### **Functionality Requirements:**\n",
    "Your program should:\n",
    "- Display the genre associated with a given author. (**10 points**)\n",
    "- Identify and display the common themes of a specific author’s works. (**5 points**)\n",
    "- Visualize using a Word cloud (**5 points**)\n",
    "---\n",
    "\n",
    "#### **Dataset:**\n",
    "Use the `cleaned_books.csv` dataset that can be downloaded that includes book descriptions and author details.\n",
    "\n",
    "---\n",
    "\n",
    "#### **Tasks:**\n",
    "\n",
    "1. **Data Preprocessing:**\n",
    "   - Load the dataset into a Pandas DataFrame.\n",
    "   - Clean the book descriptions by removing stop words and performing additional necessary preprocessing steps.\n",
    "\n",
    "2. **Clustering:**\n",
    "   - Generate TF-IDF vectors from the book descriptions using `TfidfVectorizer`.\n",
    "   - Identify the optimal number of clusters (`k`) using a suitable method (e.g., the Elbow Method).\n",
    "   - Choose a clustering algorithm (e.g., K-Means, DBSCAN) and justify your choice.\n",
    "   - Perform clustering to group books into clusters and assign a cluster label to each book in the DataFrame.\n",
    "\n",
    "3. **Genre Assignment:**\n",
    "   - Group books by author and cluster labels.\n",
    "   - Assign the most frequent cluster associated with each author as their genre.\n",
    "   - Create a data structure (e.g., a Pandas Series) to store the mapping of authors to their assigned genres.\n",
    "\n",
    "4. **Theme Identification:**\n",
    "   - Develop a function to extract the main themes of a cluster using the top `N` terms from the TF-IDF matrix.\n",
    "   - Apply this function to all clusters to identify and interpret the predominant themes.\n",
    "   - Visualize using a Word cloud\n",
    "\n",
    "\n",
    "\n",
    "---\n",
    "```\n",
    "Use CAses: (the below use case is with K Means clustering. You can get different cluster number and different words under themes depending on your implementation. Moreover, you can apply DBScan as well.)\n",
    "\n",
    "Enter an author name: Stephen King\n",
    "The genre of Stephen King is: Cluster 1\n",
    "\n",
    "Common themes for Stephen King: 'concis' 'hemingway' 'autobiograph' ... 'power' 'one' 'world'\n",
    "\n",
    "```"
   ]
  },
  {
   "cell_type": "markdown",
   "metadata": {
    "id": "mhKc0V_oIH50"
   },
   "source": [
    "Use the following helper code to download the dataset"
   ]
  },
  {
   "cell_type": "code",
   "execution_count": 2,
   "metadata": {},
   "outputs": [],
   "source": [
    "import pandas as pd"
   ]
  },
  {
   "cell_type": "code",
   "execution_count": 3,
   "metadata": {
    "id": "GGRsJDuRIKw8"
   },
   "outputs": [],
   "source": [
    "import io\n",
    "import requests\n",
    "import zipfile\n",
    "\n",
    "# Download the zip file from the raw URL\n",
    "url = \"https://github.com/sumonacalpoly/Datasets/raw/main/cleaned_books.csv.zip\"\n",
    "response = requests.get(url)\n",
    "response.raise_for_status()  # Raise an exception for bad responses\n",
    "\n",
    "# Extract the CSV data from the zip file\n",
    "with zipfile.ZipFile(io.BytesIO(response.content)) as zf:\n",
    "    with zf.open('cleaned_books.csv') as f:\n",
    "        cleaned_books = pd.read_csv(f)\n"
   ]
  },
  {
   "cell_type": "markdown",
   "metadata": {},
   "source": [
    "## 1. Data Preprocessing"
   ]
  },
  {
   "cell_type": "markdown",
   "metadata": {},
   "source": [
    "### Load the dataset into a Pandas DataFrame"
   ]
  },
  {
   "cell_type": "code",
   "execution_count": 4,
   "metadata": {
    "id": "99eXEGH4IMCa"
   },
   "outputs": [],
   "source": [
    "df = cleaned_books.copy()"
   ]
  },
  {
   "cell_type": "code",
   "execution_count": 5,
   "metadata": {},
   "outputs": [
    {
     "data": {
      "text/html": [
       "<div>\n",
       "<style scoped>\n",
       "    .dataframe tbody tr th:only-of-type {\n",
       "        vertical-align: middle;\n",
       "    }\n",
       "\n",
       "    .dataframe tbody tr th {\n",
       "        vertical-align: top;\n",
       "    }\n",
       "\n",
       "    .dataframe thead th {\n",
       "        text-align: right;\n",
       "    }\n",
       "</style>\n",
       "<table border=\"1\" class=\"dataframe\">\n",
       "  <thead>\n",
       "    <tr style=\"text-align: right;\">\n",
       "      <th></th>\n",
       "      <th>title</th>\n",
       "      <th>author</th>\n",
       "      <th>description</th>\n",
       "    </tr>\n",
       "  </thead>\n",
       "  <tbody>\n",
       "    <tr>\n",
       "      <th>0</th>\n",
       "      <td>The Hunger Games</td>\n",
       "      <td>Suzanne Collins</td>\n",
       "      <td>winning will make you famous. losing means cer...</td>\n",
       "    </tr>\n",
       "    <tr>\n",
       "      <th>1</th>\n",
       "      <td>Harry Potter and the Order of the Phoenix</td>\n",
       "      <td>J.K. Rowling</td>\n",
       "      <td>there is a door at the end of a silent corrido...</td>\n",
       "    </tr>\n",
       "    <tr>\n",
       "      <th>2</th>\n",
       "      <td>To Kill a Mockingbird</td>\n",
       "      <td>Harper Lee</td>\n",
       "      <td>the unforgettable novel of a childhood in a sl...</td>\n",
       "    </tr>\n",
       "    <tr>\n",
       "      <th>3</th>\n",
       "      <td>Twilight</td>\n",
       "      <td>Stephenie Meyer</td>\n",
       "      <td>about three things i was absolutely positive.f...</td>\n",
       "    </tr>\n",
       "    <tr>\n",
       "      <th>4</th>\n",
       "      <td>The Book Thief</td>\n",
       "      <td>Markus Zusak</td>\n",
       "      <td>trying to make sense of the horrors of world w...</td>\n",
       "    </tr>\n",
       "  </tbody>\n",
       "</table>\n",
       "</div>"
      ],
      "text/plain": [
       "                                       title           author  \\\n",
       "0                           The Hunger Games  Suzanne Collins   \n",
       "1  Harry Potter and the Order of the Phoenix     J.K. Rowling   \n",
       "2                      To Kill a Mockingbird       Harper Lee   \n",
       "3                                   Twilight  Stephenie Meyer   \n",
       "4                             The Book Thief     Markus Zusak   \n",
       "\n",
       "                                         description  \n",
       "0  winning will make you famous. losing means cer...  \n",
       "1  there is a door at the end of a silent corrido...  \n",
       "2  the unforgettable novel of a childhood in a sl...  \n",
       "3  about three things i was absolutely positive.f...  \n",
       "4  trying to make sense of the horrors of world w...  "
      ]
     },
     "execution_count": 5,
     "metadata": {},
     "output_type": "execute_result"
    }
   ],
   "source": [
    "df.head()"
   ]
  },
  {
   "cell_type": "markdown",
   "metadata": {},
   "source": [
    "### Clean the book descriptions by removing stop words and performing additional necessary preprocessing steps."
   ]
  },
  {
   "cell_type": "code",
   "execution_count": 6,
   "metadata": {
    "id": "NK89LwwQC-Hu"
   },
   "outputs": [
    {
     "name": "stdout",
     "output_type": "stream",
     "text": [
      "Requirement already satisfied: wordcloud in ./.venv/lib/python3.9/site-packages (1.9.4)\n",
      "Requirement already satisfied: numpy>=1.6.1 in ./.venv/lib/python3.9/site-packages (from wordcloud) (2.0.2)\n",
      "Requirement already satisfied: pillow in ./.venv/lib/python3.9/site-packages (from wordcloud) (11.0.0)\n",
      "Requirement already satisfied: matplotlib in ./.venv/lib/python3.9/site-packages (from wordcloud) (3.9.3)\n",
      "Requirement already satisfied: contourpy>=1.0.1 in ./.venv/lib/python3.9/site-packages (from matplotlib->wordcloud) (1.3.0)\n",
      "Requirement already satisfied: cycler>=0.10 in ./.venv/lib/python3.9/site-packages (from matplotlib->wordcloud) (0.12.1)\n",
      "Requirement already satisfied: fonttools>=4.22.0 in ./.venv/lib/python3.9/site-packages (from matplotlib->wordcloud) (4.55.1)\n",
      "Requirement already satisfied: kiwisolver>=1.3.1 in ./.venv/lib/python3.9/site-packages (from matplotlib->wordcloud) (1.4.7)\n",
      "Requirement already satisfied: packaging>=20.0 in ./.venv/lib/python3.9/site-packages (from matplotlib->wordcloud) (24.2)\n",
      "Requirement already satisfied: pyparsing>=2.3.1 in ./.venv/lib/python3.9/site-packages (from matplotlib->wordcloud) (3.2.0)\n",
      "Requirement already satisfied: python-dateutil>=2.7 in ./.venv/lib/python3.9/site-packages (from matplotlib->wordcloud) (2.9.0.post0)\n",
      "Requirement already satisfied: importlib-resources>=3.2.0 in ./.venv/lib/python3.9/site-packages (from matplotlib->wordcloud) (6.4.5)\n",
      "Requirement already satisfied: zipp>=3.1.0 in ./.venv/lib/python3.9/site-packages (from importlib-resources>=3.2.0->matplotlib->wordcloud) (3.21.0)\n",
      "Requirement already satisfied: six>=1.5 in ./.venv/lib/python3.9/site-packages (from python-dateutil>=2.7->matplotlib->wordcloud) (1.16.0)\n",
      "Note: you may need to restart the kernel to use updated packages.\n"
     ]
    }
   ],
   "source": [
    "%pip install wordcloud\n",
    "import matplotlib.pyplot as plt\n",
    "from wordcloud import WordCloud"
   ]
  },
  {
   "cell_type": "code",
   "execution_count": 7,
   "metadata": {
    "id": "dQKsi6QOBF_f"
   },
   "outputs": [
    {
     "name": "stderr",
     "output_type": "stream",
     "text": [
      "[nltk_data] Downloading package punkt_tab to\n",
      "[nltk_data]     /Users/naominayman/nltk_data...\n",
      "[nltk_data]   Package punkt_tab is already up-to-date!\n",
      "[nltk_data] Downloading package punkt to\n",
      "[nltk_data]     /Users/naominayman/nltk_data...\n",
      "[nltk_data]   Package punkt is already up-to-date!\n",
      "[nltk_data] Downloading package stopwords to\n",
      "[nltk_data]     /Users/naominayman/nltk_data...\n",
      "[nltk_data]   Package stopwords is already up-to-date!\n"
     ]
    },
    {
     "data": {
      "text/plain": [
       "True"
      ]
     },
     "execution_count": 7,
     "metadata": {},
     "output_type": "execute_result"
    }
   ],
   "source": [
    "import pandas as pd\n",
    "import numpy as np\n",
    "import matplotlib.pyplot as plt\n",
    "import seaborn as sns\n",
    "\n",
    "import string\n",
    "from nltk.corpus import stopwords\n",
    "from nltk.tokenize import word_tokenize\n",
    "from nltk.stem import PorterStemmer\n",
    "import nltk\n",
    "nltk.download('punkt_tab')\n",
    "nltk.download('punkt')\n",
    "nltk.download('stopwords')"
   ]
  },
  {
   "cell_type": "code",
   "execution_count": 8,
   "metadata": {},
   "outputs": [
    {
     "data": {
      "text/plain": [
       "'winning will make you famous losing means certain death the nation of panem formed from a post apocalyptic north america is a country that consists of a wealthy capitol region surrounded by poorer districts early in its history a rebellion led by a th district against the capitol resulted in its destruction and the creation of an annual televised event known as the hunger games in punishment and as a reminder of the power and grace of the capitol each district must yield one boy and one girl between the ages of and through a lottery system to participate in the games the tributes are chosen during the annual reaping and are forced to fight to the death leaving only one survivor to claim victory when year old katniss s young sister prim is selected as district s female representative katniss volunteers to take her place she and her male counterpart peeta are pitted against bigger stronger representatives some of whom have trained for this their whole lives she sees it as a death sentence but katniss has been close to death before for her survival is second nature'"
      ]
     },
     "execution_count": 8,
     "metadata": {},
     "output_type": "execute_result"
    }
   ],
   "source": [
    "#remove punctuation\n",
    "def preprocess(text):\n",
    "    # Convert to lowercase\n",
    "    text = text.lower()\n",
    "    # Remove digits\n",
    "    text = ''.join([char for char in text if not char.isdigit()])\n",
    "    # Remove punctuation and replace with a space\n",
    "    text = text.translate(str.maketrans(string.punctuation, ' ' * len(string.punctuation)))\n",
    "    # Remove extra whitespace\n",
    "    text = ' '.join(text.split())\n",
    "    return text\n",
    "\n",
    "df['cleaned_description'] = df['description'].apply(preprocess)\n",
    "\n",
    "df['cleaned_description'][0]"
   ]
  },
  {
   "cell_type": "code",
   "execution_count": 9,
   "metadata": {},
   "outputs": [
    {
     "data": {
      "text/plain": [
       "'there is a door at the end of a silent corridor and it’s haunting harry pottter’s dreams why else would he be waking in the middle of the night screaming in terror harry has a lot on his mind for this his fifth year at hogwarts a defense against the dark arts teacher with a personality like poisoned honey a big surprise on the gryffindor quidditch team and the looming terror of the ordinary wizarding level exams but all these things pale next to the growing threat of he who must not be named a threat that neither the magical government nor the authorities at hogwarts can stop as the grasp of darkness tightens harry must discover the true depth and strength of his friends the importance of boundless loyalty and the shocking price of unbearable sacrifice his fate depends on them alll back cover'"
      ]
     },
     "execution_count": 9,
     "metadata": {},
     "output_type": "execute_result"
    }
   ],
   "source": [
    "df['cleaned_description'][1]"
   ]
  },
  {
   "cell_type": "code",
   "execution_count": 10,
   "metadata": {},
   "outputs": [],
   "source": [
    "# remove stopwords\n",
    "allstopwords = stopwords.words('english')\n",
    "\n",
    "df['cleaned_description'] = df['cleaned_description'].apply(lambda x: \" \".join(i for i in x.lower().split() if i not in allstopwords))"
   ]
  },
  {
   "cell_type": "code",
   "execution_count": 11,
   "metadata": {},
   "outputs": [
    {
     "data": {
      "text/plain": [
       "'winning make famous losing means certain death nation panem formed post apocalyptic north america country consists wealthy capitol region surrounded poorer districts early history rebellion led th district capitol resulted destruction creation annual televised event known hunger games punishment reminder power grace capitol district must yield one boy one girl ages lottery system participate games tributes chosen annual reaping forced fight death leaving one survivor claim victory year old katniss young sister prim selected district female representative katniss volunteers take place male counterpart peeta pitted bigger stronger representatives trained whole lives sees death sentence katniss close death survival second nature'"
      ]
     },
     "execution_count": 11,
     "metadata": {},
     "output_type": "execute_result"
    }
   ],
   "source": [
    "df['cleaned_description'][0]"
   ]
  },
  {
   "cell_type": "code",
   "execution_count": 22,
   "metadata": {},
   "outputs": [
    {
     "data": {
      "text/html": [
       "<div>\n",
       "<style scoped>\n",
       "    .dataframe tbody tr th:only-of-type {\n",
       "        vertical-align: middle;\n",
       "    }\n",
       "\n",
       "    .dataframe tbody tr th {\n",
       "        vertical-align: top;\n",
       "    }\n",
       "\n",
       "    .dataframe thead th {\n",
       "        text-align: right;\n",
       "    }\n",
       "</style>\n",
       "<table border=\"1\" class=\"dataframe\">\n",
       "  <thead>\n",
       "    <tr style=\"text-align: right;\">\n",
       "      <th></th>\n",
       "      <th>title</th>\n",
       "      <th>author</th>\n",
       "      <th>description</th>\n",
       "      <th>cleaned_description</th>\n",
       "    </tr>\n",
       "  </thead>\n",
       "  <tbody>\n",
       "    <tr>\n",
       "      <th>0</th>\n",
       "      <td>The Hunger Games</td>\n",
       "      <td>Suzanne Collins</td>\n",
       "      <td>winning will make you famous. losing means cer...</td>\n",
       "      <td>winning make famous losing means certain death...</td>\n",
       "    </tr>\n",
       "    <tr>\n",
       "      <th>1</th>\n",
       "      <td>Harry Potter and the Order of the Phoenix</td>\n",
       "      <td>J.K. Rowling</td>\n",
       "      <td>there is a door at the end of a silent corrido...</td>\n",
       "      <td>door end silent corridor it’s haunting harry p...</td>\n",
       "    </tr>\n",
       "    <tr>\n",
       "      <th>2</th>\n",
       "      <td>To Kill a Mockingbird</td>\n",
       "      <td>Harper Lee</td>\n",
       "      <td>the unforgettable novel of a childhood in a sl...</td>\n",
       "      <td>unforgettable novel childhood sleepy southern ...</td>\n",
       "    </tr>\n",
       "    <tr>\n",
       "      <th>3</th>\n",
       "      <td>Twilight</td>\n",
       "      <td>Stephenie Meyer</td>\n",
       "      <td>about three things i was absolutely positive.f...</td>\n",
       "      <td>three things absolutely positive first edward ...</td>\n",
       "    </tr>\n",
       "    <tr>\n",
       "      <th>4</th>\n",
       "      <td>The Book Thief</td>\n",
       "      <td>Markus Zusak</td>\n",
       "      <td>trying to make sense of the horrors of world w...</td>\n",
       "      <td>trying make sense horrors world war ii death r...</td>\n",
       "    </tr>\n",
       "  </tbody>\n",
       "</table>\n",
       "</div>"
      ],
      "text/plain": [
       "                                       title           author  \\\n",
       "0                           The Hunger Games  Suzanne Collins   \n",
       "1  Harry Potter and the Order of the Phoenix     J.K. Rowling   \n",
       "2                      To Kill a Mockingbird       Harper Lee   \n",
       "3                                   Twilight  Stephenie Meyer   \n",
       "4                             The Book Thief     Markus Zusak   \n",
       "\n",
       "                                         description  \\\n",
       "0  winning will make you famous. losing means cer...   \n",
       "1  there is a door at the end of a silent corrido...   \n",
       "2  the unforgettable novel of a childhood in a sl...   \n",
       "3  about three things i was absolutely positive.f...   \n",
       "4  trying to make sense of the horrors of world w...   \n",
       "\n",
       "                                 cleaned_description  \n",
       "0  winning make famous losing means certain death...  \n",
       "1  door end silent corridor it’s haunting harry p...  \n",
       "2  unforgettable novel childhood sleepy southern ...  \n",
       "3  three things absolutely positive first edward ...  \n",
       "4  trying make sense horrors world war ii death r...  "
      ]
     },
     "execution_count": 22,
     "metadata": {},
     "output_type": "execute_result"
    }
   ],
   "source": [
    "df.head()"
   ]
  },
  {
   "cell_type": "markdown",
   "metadata": {},
   "source": [
    "## 2. Clustering"
   ]
  },
  {
   "cell_type": "markdown",
   "metadata": {},
   "source": [
    "### Generate TF-IDF vectors from the book descriptions using `TfidfVectorizer`."
   ]
  },
  {
   "cell_type": "code",
   "execution_count": 14,
   "metadata": {},
   "outputs": [],
   "source": [
    "from sklearn.feature_extraction.text import TfidfVectorizer\n",
    "\n",
    "vectorizer = TfidfVectorizer(use_idf=True, smooth_idf=False)\n",
    "tfidf_matrix = vectorizer.fit_transform(df['cleaned_description'])\n",
    "\n",
    "tfidf_df = pd.DataFrame(tfidf_matrix.toarray(), columns=vectorizer.get_feature_names_out())\n"
   ]
  },
  {
   "cell_type": "code",
   "execution_count": null,
   "metadata": {},
   "outputs": [],
   "source": []
  },
  {
   "cell_type": "code",
   "execution_count": null,
   "metadata": {},
   "outputs": [
    {
     "data": {
      "text/html": [
       "<div>\n",
       "<style scoped>\n",
       "    .dataframe tbody tr th:only-of-type {\n",
       "        vertical-align: middle;\n",
       "    }\n",
       "\n",
       "    .dataframe tbody tr th {\n",
       "        vertical-align: top;\n",
       "    }\n",
       "\n",
       "    .dataframe thead th {\n",
       "        text-align: right;\n",
       "    }\n",
       "</style>\n",
       "<table border=\"1\" class=\"dataframe\">\n",
       "  <thead>\n",
       "    <tr style=\"text-align: right;\">\n",
       "      <th></th>\n",
       "      <th>aa</th>\n",
       "      <th>aaa</th>\n",
       "      <th>aaaanah</th>\n",
       "      <th>aaarr</th>\n",
       "      <th>aachan</th>\n",
       "      <th>aachen</th>\n",
       "      <th>aachim</th>\n",
       "      <th>aack</th>\n",
       "      <th>aaden</th>\n",
       "      <th>aadh</th>\n",
       "      <th>...</th>\n",
       "      <th>ﬁction</th>\n",
       "      <th>ﬁerce</th>\n",
       "      <th>ﬁnd</th>\n",
       "      <th>ﬁred</th>\n",
       "      <th>ﬁrst</th>\n",
       "      <th>ﬂame</th>\n",
       "      <th>ﬂavorful</th>\n",
       "      <th>ﬂavors</th>\n",
       "      <th>ﬂed</th>\n",
       "      <th>ﬂoors</th>\n",
       "    </tr>\n",
       "  </thead>\n",
       "  <tbody>\n",
       "    <tr>\n",
       "      <th>38160</th>\n",
       "      <td>0.0</td>\n",
       "      <td>0.0</td>\n",
       "      <td>0.0</td>\n",
       "      <td>0.0</td>\n",
       "      <td>0.0</td>\n",
       "      <td>0.0</td>\n",
       "      <td>0.0</td>\n",
       "      <td>0.0</td>\n",
       "      <td>0.0</td>\n",
       "      <td>0.0</td>\n",
       "      <td>...</td>\n",
       "      <td>0.0</td>\n",
       "      <td>0.0</td>\n",
       "      <td>0.0</td>\n",
       "      <td>0.0</td>\n",
       "      <td>0.0</td>\n",
       "      <td>0.0</td>\n",
       "      <td>0.0</td>\n",
       "      <td>0.0</td>\n",
       "      <td>0.0</td>\n",
       "      <td>0.0</td>\n",
       "    </tr>\n",
       "  </tbody>\n",
       "</table>\n",
       "<p>1 rows × 100509 columns</p>\n",
       "</div>"
      ],
      "text/plain": [
       "        aa  aaa  aaaanah  aaarr  aachan  aachen  aachim  aack  aaden  aadh  \\\n",
       "38160  0.0  0.0      0.0    0.0     0.0     0.0     0.0   0.0    0.0   0.0   \n",
       "\n",
       "       ...  ﬁction  ﬁerce  ﬁnd  ﬁred  ﬁrst  ﬂame  ﬂavorful  ﬂavors  ﬂed  ﬂoors  \n",
       "38160  ...     0.0    0.0  0.0   0.0   0.0   0.0       0.0     0.0  0.0    0.0  \n",
       "\n",
       "[1 rows x 100509 columns]"
      ]
     },
     "execution_count": 29,
     "metadata": {},
     "output_type": "execute_result"
    }
   ],
   "source": []
  },
  {
   "cell_type": "code",
   "execution_count": 19,
   "metadata": {},
   "outputs": [
    {
     "data": {
      "image/png": "[encoded data removed]",
      "text/plain": [
       "<Figure size 800x500 with 1 Axes>"
      ]
     },
     "metadata": {},
     "output_type": "display_data"
    }
   ],
   "source": [
    "from sklearn.cluster import KMeans\n",
    "\n",
    "import matplotlib.pyplot as plt\n",
    "\n",
    "errors = []\n",
    "K = range(1, 16)\n",
    "for k in K:\n",
    "    kmeans = KMeans(n_clusters=k, random_state=42)\n",
    "    kmeans.fit(tfidf_matrix)\n",
    "    errors.append(kmeans.inertia_)\n",
    "\n",
    "plt.figure(figsize=(8, 5))\n",
    "plt.plot(K, errors, 'bx-')\n",
    "plt.xlabel('Number of clusters')\n",
    "plt.ylabel('Error')\n",
    "plt.title('Optimal k')\n",
    "plt.show()"
   ]
  },
  {
   "cell_type": "markdown",
   "metadata": {},
   "source": [
    "from the graph above, it looks like k=3 is optimal usiing the elbow method. But, for this particular graph it may not be the best idea to set k manually since there isn't a very obvious elbow. That being said, we will use DBSCAN for clustering rather than KMeans."
   ]
  }
 ],
 "metadata": {
  "colab": {
   "provenance": []
  },
  "kernelspec": {
   "display_name": ".venv",
   "language": "python",
   "name": "python3"
  },
  "language_info": {
   "codemirror_mode": {
    "name": "ipython",
    "version": 3
   },
   "file_extension": ".py",
   "mimetype": "text/x-python",
   "name": "python",
   "nbconvert_exporter": "python",
   "pygments_lexer": "ipython3",
   "version": "3.9.20"
  }
 },
 "nbformat": 4,
 "nbformat_minor": 0
}
